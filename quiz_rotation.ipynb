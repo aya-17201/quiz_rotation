{
 "cells": [
  {
   "cell_type": "code",
   "execution_count": 68,
   "metadata": {},
   "outputs": [
    {
     "name": "stdout",
     "output_type": "stream",
     "text": [
      "「なぜ山に登るのか」と聞かれ、「そこに山があるから」と答えた逸話で知られるイギリスの登山家は誰でしょう？\n",
      "======================\n",
      "うス逸がと﹁\n",
      "？の話あ聞な\n",
      "　登でるかぜ\n",
      "　山知かれ山\n",
      "　家らら︑に\n",
      "　はれ﹂﹁登\n",
      "　誰るとそる\n",
      "　でイ答この\n",
      "　しギえにか\n",
      "　ょリた山﹂\n"
     ]
    }
   ],
   "source": [
    "import numpy as np\n",
    "\n",
    "def kaiten(a):\n",
    "    a=a.replace(\"（\",\"︵\")\n",
    "    a=a.replace(\"）\",\"︶\")\n",
    "    a=a.replace(\"｛\",\"︷\")\n",
    "    a=a.replace(\"｝\",\"︸\")\n",
    "    a=a.replace(\"〔\",\"︹\")\n",
    "    a=a.replace(\"〕\",\"︺\")\n",
    "    a=a.replace(\"【\",\"︻\")\n",
    "    a=a.replace(\"】\",\"︼\")\n",
    "    a=a.replace(\"《\",\"︽\")\n",
    "    a=a.replace(\"》\",\"︾\")\n",
    "    a=a.replace(\"〈\",\"︿\")\n",
    "    a=a.replace(\"〉\",\"﹀\")\n",
    "    a=a.replace(\"「\",\"﹁\")\n",
    "    a=a.replace(\"」\",\"﹂\")\n",
    "    a=a.replace(\"『\",\"﹃\")\n",
    "    a=a.replace(\"』\",\"﹄\")\n",
    "    a=a.replace(\"［\",\"﹇\")\n",
    "    a=a.replace(\"］\",\"﹈\")\n",
    "    a=a.replace(\"、\",\"︑\")\n",
    "    a=a.replace(\"。\",\"︒\")\n",
    "    a=a.replace(\"ー\",\"丨\")\n",
    "    return a\n",
    "\n",
    "quiz_np_data=np.array(list(input()))\n",
    "new_quiz=[]\n",
    "print(\"======================\")\n",
    "\n",
    "slicer=10\n",
    "count=0\n",
    "for _ in range(int(len(quiz_np_data)/slicer)+1):\n",
    "    output=quiz_np_data[count:count+slicer]\n",
    "    if len(output)!=slicer:\n",
    "        for i in range(slicer-len(output)):\n",
    "            output=np.append(output,\"　\")\n",
    "    new_quiz.append(output)\n",
    "    count+=slicer\n",
    "\n",
    "new_quiz=np.array(new_quiz).T\n",
    "\n",
    "for _ in range(len(new_quiz)):\n",
    "    new_quiz[_]=new_quiz[_][::-1]\n",
    "    print(kaiten(\"\".join(new_quiz[_])))\n",
    "\n"
   ]
  }
 ],
 "metadata": {
  "kernelspec": {
   "display_name": "Python 3",
   "language": "python",
   "name": "python3"
  },
  "language_info": {
   "codemirror_mode": {
    "name": "ipython",
    "version": 3
   },
   "file_extension": ".py",
   "mimetype": "text/x-python",
   "name": "python",
   "nbconvert_exporter": "python",
   "pygments_lexer": "ipython3",
   "version": "3.7.6"
  }
 },
 "nbformat": 4,
 "nbformat_minor": 4
}
